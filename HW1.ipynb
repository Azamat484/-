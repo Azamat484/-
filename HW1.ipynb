{
 "cells": [
  {
   "cell_type": "code",
   "execution_count": 24,
   "metadata": {},
   "outputs": [
    {
     "name": "stdout",
     "output_type": "stream",
     "text": [
      "t - четное число\n"
     ]
    }
   ],
   "source": [
    "    word = str(\"test\")\n",
    "    \n",
    "    \n",
    "    \n",
    "    if len(word)% 2 == 0:\n",
    "        print(word[0], '- четное число')\n",
    "    else:\n",
    "        print(word[1:2], '- нечетное число')\n",
    "        "
   ]
  },
  {
   "cell_type": "code",
   "execution_count": 26,
   "metadata": {},
   "outputs": [
    {
     "name": "stdout",
     "output_type": "stream",
     "text": [
      "es - нечетное число\n"
     ]
    }
   ],
   "source": [
    "    word = str(\"testing\")\n",
    "    \n",
    "    \n",
    "    \n",
    "    if len(word)% 2 == 0:\n",
    "        print(word[0], '- четное число')\n",
    "    else:\n",
    "        print(word[1:3], '- нечетное число')"
   ]
  },
  {
   "cell_type": "code",
   "execution_count": 8,
   "metadata": {
    "scrolled": true
   },
   "outputs": [
    {
     "name": "stdout",
     "output_type": "stream",
     "text": [
      "10\n",
      "10\n",
      "10\n",
      "20\n",
      "0\n",
      "20\n"
     ]
    }
   ],
   "source": [
    "a = 0\n",
    "x ='введите число'\n",
    "while x != 0:\n",
    "    x = int(input())\n",
    "    a += x\n",
    "    print(a)\n",
    "    \n"
   ]
  },
  {
   "cell_type": "code",
   "execution_count": 107,
   "metadata": {},
   "outputs": [],
   "source": [
    "boys = ['Peter', 'Alex', 'John', 'Arthur', 'Richard']\n",
    "girls = ['Kate', 'Liza', 'Kira', 'Emma', 'Trisha']"
   ]
  },
  {
   "cell_type": "code",
   "execution_count": 184,
   "metadata": {},
   "outputs": [
    {
     "name": "stdout",
     "output_type": "stream",
     "text": [
      "Peter\n",
      "Alex\n"
     ]
    }
   ],
   "source": [
    "print(str(boys[0]))\n",
    "print(str(boys[1]))"
   ]
  },
  {
   "cell_type": "code",
   "execution_count": 112,
   "metadata": {},
   "outputs": [
    {
     "name": "stdout",
     "output_type": "stream",
     "text": [
      "[('Alex', 'Emma'), ('Arthur', 'Kate'), ('John', 'Kira'), ('Peter', 'Liza'), ('Richard', 'Trisha')]\n"
     ]
    }
   ],
   "source": [
    "boys_girls = zip(sorted(boys),sorted(girls))\n",
    "if len(boys) == len (girls):\n",
    "    print (list(boys_girls))\n",
    "else:\n",
    "    print(\"без пары\")"
   ]
  },
  {
   "cell_type": "code",
   "execution_count": 130,
   "metadata": {},
   "outputs": [],
   "source": [
    "countries_temperature = [\n",
    "    ['Thailand', [75.2, 77, 78.8, 73.4, 68, 75.2, 77]],\n",
    "    ['Germany', [57.2, 55.4, 59, 59, 53.6]],\n",
    "    ['Russia', [35.6, 37.4, 39.2, 41, 42.8, 39.2, 35.6]],\n",
    "    ['Poland', [50, 50, 53.6, 57.2, 55.4, 55.4]]\n",
    "]"
   ]
  },
  {
   "cell_type": "code",
   "execution_count": 137,
   "metadata": {},
   "outputs": [
    {
     "name": "stdout",
     "output_type": "stream",
     "text": [
      "['Thailand', [75.2, 77, 78.8, 73.4, 68, 75.2, 77]] ['Germany', [57.2, 55.4, 59, 59, 53.6]] ['Russia', [35.6, 37.4, 39.2, 41, 42.8, 39.2, 35.6]] ['Poland', [50, 50, 53.6, 57.2, 55.4, 55.4]]\n"
     ]
    }
   ],
   "source": [
    "THA=countries_temperature[0]\n",
    "GER=countries_temperature[1]\n",
    "RUS=countries_temperature[2]\n",
    "Pol=countries_temperature[3]"
   ]
  },
  {
   "cell_type": "code",
   "execution_count": 141,
   "metadata": {},
   "outputs": [
    {
     "name": "stdout",
     "output_type": "stream",
     "text": [
      "74.0 56.0 38.0 53.0\n"
     ]
    }
   ],
   "source": [
    "Thailand= sum(list(THA[1])) // len(THA[1])\n",
    "Germany=sum(list(GER[1])) // len(GER[1])\n",
    "Russia=sum(list(RUS[1])) // len(RUS[1])\n",
    "Poland=sum(list(Pol[1])) // len(Pol[1])\n",
    "print(Thailand,Germany,Russia,Poland)"
   ]
  },
  {
   "cell_type": "code",
   "execution_count": 163,
   "metadata": {},
   "outputs": [
    {
     "name": "stdout",
     "output_type": "stream",
     "text": [
      "23.333333333333332 13.333333333333332 3.333333333333333 11.666666666666666\n"
     ]
    }
   ],
   "source": [
    "CThailand = (Thailand-32)/(1+8/10)\n",
    "CGermany = (Germany-32)/(1+8/10)\n",
    "CRussia = (Russia-32)/(1+8/10)\n",
    "CPoland = (Poland-32)/(1+8/10)\n",
    "print(CThailand,CGermany,CRussia,CPoland)"
   ]
  },
  {
   "cell_type": "code",
   "execution_count": null,
   "metadata": {},
   "outputs": [],
   "source": []
  },
  {
   "cell_type": "code",
   "execution_count": null,
   "metadata": {},
   "outputs": [],
   "source": []
  },
  {
   "cell_type": "code",
   "execution_count": null,
   "metadata": {},
   "outputs": [],
   "source": []
  },
  {
   "cell_type": "code",
   "execution_count": null,
   "metadata": {},
   "outputs": [],
   "source": []
  },
  {
   "cell_type": "code",
   "execution_count": null,
   "metadata": {},
   "outputs": [],
   "source": []
  },
  {
   "cell_type": "markdown",
   "metadata": {},
   "source": [
    "x=user_1[-1-2:]+user_2[-1-2:]\n",
    "print(x)"
   ]
  },
  {
   "cell_type": "code",
   "execution_count": null,
   "metadata": {},
   "outputs": [],
   "source": []
  },
  {
   "cell_type": "code",
   "execution_count": null,
   "metadata": {},
   "outputs": [],
   "source": []
  }
 ],
 "metadata": {
  "kernelspec": {
   "display_name": "Python 3",
   "language": "python",
   "name": "python3"
  },
  "language_info": {
   "codemirror_mode": {
    "name": "ipython",
    "version": 3
   },
   "file_extension": ".py",
   "mimetype": "text/x-python",
   "name": "python",
   "nbconvert_exporter": "python",
   "pygments_lexer": "ipython3",
   "version": "3.8.3"
  }
 },
 "nbformat": 4,
 "nbformat_minor": 4
}
